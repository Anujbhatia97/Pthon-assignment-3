{
 "cells": [
  {
   "cell_type": "code",
   "execution_count": 11,
   "id": "8a37501a",
   "metadata": {},
   "outputs": [
    {
     "data": {
      "text/plain": [
       "\"Functions reduce the need for duplicate code. This makes programs shorter, easier to read, and easier to update. ... A function call is what moves the program execution into the function, and the function call evaluates to the function's return value.Just as a house has doors and windows, function has parameters through which things can get in. Without them, a function would be empty and useless.\""
      ]
     },
     "execution_count": 11,
     "metadata": {},
     "output_type": "execute_result"
    }
   ],
   "source": [
    "#Q1.\n",
    "\"Functions reduce the need for duplicate code. This makes programs shorter, easier to read, and easier to update. ... A function call is what moves the program execution into the function, and the function call evaluates to the function's return value.Just as a house has doors and windows, function has parameters through which things can get in. Without them, a function would be empty and useless.\""
   ]
  },
  {
   "cell_type": "code",
   "execution_count": 10,
   "id": "1af11967",
   "metadata": {},
   "outputs": [
    {
     "data": {
      "text/plain": [
       "'Functions may or may not take parameters and may or may not produce a result. A statement that executes a function. It consists of the name of the function followed by a list of arguments enclosed in parentheses. Using the output from one function call as the input to another.Python creating functions. A function is created with the def keyword. The statements in the block of the function must be indented. The def keyword is followed by the function name with round brackets and a colon.'"
      ]
     },
     "execution_count": 10,
     "metadata": {},
     "output_type": "execute_result"
    }
   ],
   "source": [
    "#Q3. \n",
    "\"Functions may or may not take parameters and may or may not produce a result. A statement that executes a function. It consists of the name of the function followed by a list of arguments enclosed in parentheses. Using the output from one function call as the input to another.Python creating functions. A function is created with the def keyword. The statements in the block of the function must be indented. The def keyword is followed by the function name with round brackets and a colon.\""
   ]
  },
  {
   "cell_type": "code",
   "execution_count": 12,
   "id": "d8a79e1d",
   "metadata": {},
   "outputs": [
    {
     "data": {
      "text/plain": [
       "'A function call means invoking or calling that function. Unless a function is called there is no use of that function. ... So the difference between the function and function call is, A function is procedure to achieve a particular result while function call is using this function to achive that task.'"
      ]
     },
     "execution_count": 12,
     "metadata": {},
     "output_type": "execute_result"
    }
   ],
   "source": [
    "#Q4\n",
    "\"A function call means invoking or calling that function. Unless a function is called there is no use of that function. ... So the difference between the function and function call is, A function is procedure to achieve a particular result while function call is using this function to achive that task.\""
   ]
  },
  {
   "cell_type": "code",
   "execution_count": 13,
   "id": "7c99229b",
   "metadata": {},
   "outputs": [
    {
     "data": {
      "text/plain": [
       "\"There's only one global Python scope per program execution. This scope remains in existence until the program terminates and all its names are forgotten. Otherwise, the next time you were to run the program, the names would remember their values from the previous run.\""
      ]
     },
     "execution_count": 13,
     "metadata": {},
     "output_type": "execute_result"
    }
   ],
   "source": [
    "#Q5\n",
    "\"There's only one global Python scope per program execution. This scope remains in existence until the program terminates and all its names are forgotten. Otherwise, the next time you were to run the program, the names would remember their values from the previous run.\""
   ]
  },
  {
   "cell_type": "code",
   "execution_count": 14,
   "id": "85176ecc",
   "metadata": {},
   "outputs": [
    {
     "data": {
      "text/plain": [
       "'A local variable retains its value until the next time the function is called A local variable becomes undefined after the function call completes The local variable can be used outside the function any time after the function call completes.'"
      ]
     },
     "execution_count": 14,
     "metadata": {},
     "output_type": "execute_result"
    }
   ],
   "source": [
    "#Q6 \n",
    "\"A local variable retains its value until the next time the function is called A local variable becomes undefined after the function call completes The local variable can be used outside the function any time after the function call completes.\""
   ]
  },
  {
   "cell_type": "code",
   "execution_count": 15,
   "id": "1952708d",
   "metadata": {},
   "outputs": [
    {
     "data": {
      "text/plain": [
       "'A return statement is used to end the execution of the function call and “returns” the result (value of the expression following the return keyword) to the caller. The statements after the return statements are not executed. If the return statement is without any expression, then the special value None is returned.'"
      ]
     },
     "execution_count": 15,
     "metadata": {},
     "output_type": "execute_result"
    }
   ],
   "source": [
    "#Q7 \n",
    "\"A return statement is used to end the execution of the function call and “returns” the result (value of the expression following the return keyword) to the caller. The statements after the return statements are not executed. If the return statement is without any expression, then the special value None is returned.\""
   ]
  },
  {
   "cell_type": "code",
   "execution_count": 16,
   "id": "19a53b4a",
   "metadata": {},
   "outputs": [
    {
     "data": {
      "text/plain": [
       "\"If a function doesn't specify a return value, it returns None . In an if/then conditional statement, None evaluates to False.\""
      ]
     },
     "execution_count": 16,
     "metadata": {},
     "output_type": "execute_result"
    }
   ],
   "source": [
    "#Q8\n",
    "\"If a function doesn't specify a return value, it returns None . In an if/then conditional statement, None evaluates to False.\""
   ]
  },
  {
   "cell_type": "code",
   "execution_count": 18,
   "id": "6d5e1e9d",
   "metadata": {},
   "outputs": [
    {
     "data": {
      "text/plain": [
       "'If you want to refer to a global variable in a function, you can use the global keyword to declare which variables are global'"
      ]
     },
     "execution_count": 18,
     "metadata": {},
     "output_type": "execute_result"
    }
   ],
   "source": [
    "#Q9\n",
    "\"If you want to refer to a global variable in a function, you can use the global keyword to declare which variables are global\""
   ]
  },
  {
   "cell_type": "code",
   "execution_count": 19,
   "id": "a0ef6648",
   "metadata": {},
   "outputs": [
    {
     "data": {
      "text/plain": [
       "'None is used to define a null value. It is not the same as an empty string, False, or a zero. It is a data type of the class NoneType object. Assigning a value of None to a variable is one way to reset it to its original, empty state.'"
      ]
     },
     "execution_count": 19,
     "metadata": {},
     "output_type": "execute_result"
    }
   ],
   "source": [
    "#Q10\n",
    "\"None is used to define a null value. It is not the same as an empty string, False, or a zero. It is a data type of the class NoneType object. Assigning a value of None to a variable is one way to reset it to its original, empty state.\""
   ]
  },
  {
   "cell_type": "code",
   "execution_count": 20,
   "id": "dba813c4",
   "metadata": {},
   "outputs": [
    {
     "data": {
      "text/plain": [
       "'This function can be called with spam. bacon().'"
      ]
     },
     "execution_count": 20,
     "metadata": {},
     "output_type": "execute_result"
    }
   ],
   "source": [
    "#Q12\n",
    "\"This function can be called with spam. bacon().\""
   ]
  },
  {
   "cell_type": "code",
   "execution_count": 22,
   "id": "d6014875",
   "metadata": {},
   "outputs": [
    {
     "data": {
      "text/plain": [
       "'try and except and we can block and stop the code from running too'"
      ]
     },
     "execution_count": 22,
     "metadata": {},
     "output_type": "execute_result"
    }
   ],
   "source": [
    "#Q13\n",
    "\n",
    "\"try and except and we can block and stop the code from running too\""
   ]
  },
  {
   "cell_type": "code",
   "execution_count": 23,
   "id": "59cd13d6",
   "metadata": {},
   "outputs": [
    {
     "data": {
      "text/plain": [
       "'The try block is used to check some code for errors i.e the code inside the try block will execute when there is no error in the program. Whereas the code inside the except block will execute whenever the program encounters some error in the preceding try block.'"
      ]
     },
     "execution_count": 23,
     "metadata": {},
     "output_type": "execute_result"
    }
   ],
   "source": [
    "#Q14\n",
    "\"The try block is used to check some code for errors i.e the code inside the try block will execute when there is no error in the program. Whereas the code inside the except block will execute whenever the program encounters some error in the preceding try block.\""
   ]
  },
  {
   "cell_type": "code",
   "execution_count": null,
   "id": "1e799248",
   "metadata": {},
   "outputs": [],
   "source": []
  }
 ],
 "metadata": {
  "kernelspec": {
   "display_name": "Python 3 (ipykernel)",
   "language": "python",
   "name": "python3"
  },
  "language_info": {
   "codemirror_mode": {
    "name": "ipython",
    "version": 3
   },
   "file_extension": ".py",
   "mimetype": "text/x-python",
   "name": "python",
   "nbconvert_exporter": "python",
   "pygments_lexer": "ipython3",
   "version": "3.9.7"
  }
 },
 "nbformat": 4,
 "nbformat_minor": 5
}
